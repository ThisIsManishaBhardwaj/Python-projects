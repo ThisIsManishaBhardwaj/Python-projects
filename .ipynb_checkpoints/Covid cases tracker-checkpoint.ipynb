{
 "cells": [
  {
   "cell_type": "code",
   "execution_count": 1,
   "metadata": {},
   "outputs": [
    {
     "ename": "SyntaxError",
     "evalue": "invalid syntax (<ipython-input-1-03e44c6a516a>, line 1)",
     "output_type": "error",
     "traceback": [
      "\u001b[1;36m  File \u001b[1;32m\"<ipython-input-1-03e44c6a516a>\"\u001b[1;36m, line \u001b[1;32m1\u001b[0m\n\u001b[1;33m    python3 -m pip install --upgrade pip\u001b[0m\n\u001b[1;37m               ^\u001b[0m\n\u001b[1;31mSyntaxError\u001b[0m\u001b[1;31m:\u001b[0m invalid syntax\n"
     ]
    }
   ],
   "source": [
    "python3 -m pip install --upgrade pip "
   ]
  },
  {
   "cell_type": "code",
   "execution_count": 2,
   "metadata": {},
   "outputs": [
    {
     "ename": "SyntaxError",
     "evalue": "invalid syntax (<ipython-input-2-0a8cf7b99133>, line 1)",
     "output_type": "error",
     "traceback": [
      "\u001b[1;36m  File \u001b[1;32m\"<ipython-input-2-0a8cf7b99133>\"\u001b[1;36m, line \u001b[1;32m1\u001b[0m\n\u001b[1;33m    python -m pip install --upgrade pip\u001b[0m\n\u001b[1;37m              ^\u001b[0m\n\u001b[1;31mSyntaxError\u001b[0m\u001b[1;31m:\u001b[0m invalid syntax\n"
     ]
    }
   ],
   "source": [
    "python -m pip install --upgrade pip"
   ]
  },
  {
   "cell_type": "code",
   "execution_count": 3,
   "metadata": {},
   "outputs": [
    {
     "name": "stdout",
     "output_type": "stream",
     "text": [
      "Requirement already satisfied: covid in c:\\users\\manisha bhardwaj\\anaconda3\\lib\\site-packages (2.4.0)\n",
      "Requirement already satisfied: typer in c:\\users\\manisha bhardwaj\\anaconda3\\lib\\site-packages (from covid) (0.3.2)\n",
      "Requirement already satisfied: pydantic in c:\\users\\manisha bhardwaj\\anaconda3\\lib\\site-packages (from covid) (1.6.1)\n",
      "Requirement already satisfied: requests in c:\\users\\manisha bhardwaj\\anaconda3\\lib\\site-packages (from covid) (2.24.0)\n",
      "Requirement already satisfied: beautifulsoup4 in c:\\users\\manisha bhardwaj\\anaconda3\\lib\\site-packages (from covid) (4.9.1)\n",
      "Requirement already satisfied: click<7.2.0,>=7.1.1 in c:\\users\\manisha bhardwaj\\anaconda3\\lib\\site-packages (from typer->covid) (7.1.2)\n",
      "Requirement already satisfied: certifi>=2017.4.17 in c:\\users\\manisha bhardwaj\\anaconda3\\lib\\site-packages (from requests->covid) (2020.6.20)\n",
      "Requirement already satisfied: idna<3,>=2.5 in c:\\users\\manisha bhardwaj\\anaconda3\\lib\\site-packages (from requests->covid) (2.10)\n",
      "Requirement already satisfied: chardet<4,>=3.0.2 in c:\\users\\manisha bhardwaj\\anaconda3\\lib\\site-packages (from requests->covid) (3.0.4)\n",
      "Requirement already satisfied: urllib3!=1.25.0,!=1.25.1,<1.26,>=1.21.1 in c:\\users\\manisha bhardwaj\\anaconda3\\lib\\site-packages (from requests->covid) (1.25.9)\n",
      "Requirement already satisfied: soupsieve>1.2 in c:\\users\\manisha bhardwaj\\anaconda3\\lib\\site-packages (from beautifulsoup4->covid) (2.0.1)\n"
     ]
    }
   ],
   "source": [
    "!pip3 install covid"
   ]
  },
  {
   "cell_type": "code",
   "execution_count": 4,
   "metadata": {},
   "outputs": [
    {
     "name": "stdout",
     "output_type": "stream",
     "text": [
      "Requirement already satisfied: matplotlib in c:\\users\\manisha bhardwaj\\anaconda3\\lib\\site-packages (3.2.2)\n",
      "Requirement already satisfied: pyparsing!=2.0.4,!=2.1.2,!=2.1.6,>=2.0.1 in c:\\users\\manisha bhardwaj\\anaconda3\\lib\\site-packages (from matplotlib) (2.4.7)\n",
      "Requirement already satisfied: numpy>=1.11 in c:\\users\\manisha bhardwaj\\anaconda3\\lib\\site-packages (from matplotlib) (1.18.5)\n",
      "Requirement already satisfied: cycler>=0.10 in c:\\users\\manisha bhardwaj\\anaconda3\\lib\\site-packages (from matplotlib) (0.10.0)\n",
      "Requirement already satisfied: python-dateutil>=2.1 in c:\\users\\manisha bhardwaj\\anaconda3\\lib\\site-packages (from matplotlib) (2.8.1)\n",
      "Requirement already satisfied: kiwisolver>=1.0.1 in c:\\users\\manisha bhardwaj\\anaconda3\\lib\\site-packages (from matplotlib) (1.2.0)\n",
      "Requirement already satisfied: six in c:\\users\\manisha bhardwaj\\anaconda3\\lib\\site-packages (from cycler>=0.10->matplotlib) (1.15.0)\n"
     ]
    }
   ],
   "source": [
    "!pip3 install matplotlib"
   ]
  },
  {
   "cell_type": "code",
   "execution_count": 5,
   "metadata": {},
   "outputs": [],
   "source": [
    "import covid"
   ]
  },
  {
   "cell_type": "code",
   "execution_count": 6,
   "metadata": {},
   "outputs": [],
   "source": [
    "import matplotlib.pyplot"
   ]
  },
  {
   "cell_type": "code",
   "execution_count": 7,
   "metadata": {},
   "outputs": [],
   "source": [
    "from covid import Covid"
   ]
  },
  {
   "cell_type": "code",
   "execution_count": 8,
   "metadata": {},
   "outputs": [],
   "source": [
    "import matplotlib.pyplot as plt"
   ]
  },
  {
   "cell_type": "code",
   "execution_count": 9,
   "metadata": {},
   "outputs": [],
   "source": [
    "covid = Covid()"
   ]
  },
  {
   "cell_type": "code",
   "execution_count": 10,
   "metadata": {},
   "outputs": [
    {
     "name": "stdout",
     "output_type": "stream",
     "text": [
      "Enter the name of the country : India\n"
     ]
    }
   ],
   "source": [
    "name = input(\"Enter the name of the country : \")"
   ]
  },
  {
   "cell_type": "code",
   "execution_count": 19,
   "metadata": {},
   "outputs": [],
   "source": [
    "virusdata = covid.get_status_by_country_name(name)\n",
    "remove = ['id', 'country', 'latitude', 'longitude', 'last_update']\n",
    "for i in remove:\n",
    "    virusdata.pop(i)\n",
    "all = virusdata.pop('confirmed')"
   ]
  },
  {
   "cell_type": "code",
   "execution_count": 20,
   "metadata": {},
   "outputs": [
    {
     "name": "stdout",
     "output_type": "stream",
     "text": [
      "{'active': 975861, 'deaths': 88935, 'recovered': 4497867}\n"
     ]
    }
   ],
   "source": [
    "print(virusdata)"
   ]
  },
  {
   "cell_type": "code",
   "execution_count": 22,
   "metadata": {},
   "outputs": [
    {
     "data": {
      "image/png": "[encoded data removed]",
      "text/plain": [
       "<Figure size 432x288 with 1 Axes>"
      ]
     },
     "metadata": {},
     "output_type": "display_data"
    }
   ],
   "source": [
    "id = list(virusdata.keys())\n",
    "value = [str(i) for i in virusdata.values()]\n",
    "\n",
    "plt.pie(value, labels = id, colors = ['r','y','g','b'], autopct = '%1.1f%%')\n",
    "plt.title(\"COUNTRY : \"+name.upper() +\"\\n TOTAL CASES : \"+str(all))\n",
    "plt.legend()\n",
    "plt.show()"
   ]
  },
  {
   "cell_type": "code",
   "execution_count": 17,
   "metadata": {},
   "outputs": [],
   "source": [
    "#Not clear data"
   ]
  },
  {
   "cell_type": "markdown",
   "metadata": {},
   "source": [
    "---"
   ]
  },
  {
   "cell_type": "code",
   "execution_count": null,
   "metadata": {},
   "outputs": [],
   "source": []
  }
 ],
 "metadata": {
  "kernelspec": {
   "display_name": "Python 3",
   "language": "python",
   "name": "python3"
  },
  "language_info": {
   "codemirror_mode": {
    "name": "ipython",
    "version": 3
   },
   "file_extension": ".py",
   "mimetype": "text/x-python",
   "name": "python",
   "nbconvert_exporter": "python",
   "pygments_lexer": "ipython3",
   "version": "3.8.3"
  }
 },
 "nbformat": 4,
 "nbformat_minor": 4
}
